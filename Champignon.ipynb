{
 "cells": [
  {
   "cell_type": "markdown",
   "id": "bbc8aff2-29a8-44f8-85ff-70a6d4fa5b56",
   "metadata": {
    "tags": []
   },
   "source": [
    "## Mise en place de la base de données"
   ]
  },
  {
   "cell_type": "code",
   "execution_count": null,
   "id": "be956584-5910-4098-8d97-1b92baaf1b5a",
   "metadata": {},
   "outputs": [],
   "source": [
    "import pandas as pd\n",
    "import matplotlib.pyplot as plt \n",
    "import seaborn as sns\n",
    "import numpy as np\n",
    "from sklearn.model_selection import train_test_split"
   ]
  },
  {
   "cell_type": "code",
   "execution_count": null,
   "id": "1bf6ea69-e5e5-4234-9606-e9e808e594bf",
   "metadata": {},
   "outputs": [],
   "source": [
    "#Chargement de la base de données\n",
    "\n",
    "champi =pd.read_csv('agaricus-lepiota V2.csv',delimiter=';')"
   ]
  },
  {
   "cell_type": "code",
   "execution_count": null,
   "id": "369ff9fb-9b95-429b-97a7-298a2894f4bb",
   "metadata": {},
   "outputs": [],
   "source": [
    "#Analyse univariée\n",
    "\n",
    "C_cols = champi.columns.to_list()\n",
    "for attribut in C_cols[:]:\n",
    "    plt.figure()\n",
    "    sns.countplot(x=attribut , data=champi)\n",
    "    plt.show()\n",
    "    print(\"% des differentes valeurs:\")\n",
    "    print(round((champi[attribut].value_counts()/champi.shape[0]),4)*100)"
   ]
  },
  {
   "cell_type": "code",
   "execution_count": null,
   "id": "f0ede42d-0c0f-495f-b375-1744735627b9",
   "metadata": {},
   "outputs": [],
   "source": [
    "#Analyse bivariée des attributs par rapport a la classe\n",
    "\n",
    "for attribut in C_cols[1:]: \n",
    "    plt.figure(figsize=(30,20))\n",
    "    plt.subplot(3,3,3)\n",
    "    sns.countplot(x=attribut ,hue='class', data=champi)\n",
    "    plt.xlabel(attribut, fontsize=30)\n",
    "    plt.legend(loc='upper right')\n",
    "    plt.show()\n",
    "    print(pd.pivot_table(champi, index=[attribut,\"class\"], aggfunc = {attribut:np.count_nonzero}))"
   ]
  },
  {
   "cell_type": "markdown",
   "id": "00366bda-00d0-4d13-b16b-3cb101bb6656",
   "metadata": {
    "tags": []
   },
   "source": [
    "## Mise en place en Python"
   ]
  },
  {
   "cell_type": "code",
   "execution_count": null,
   "id": "ec10ff2b-33a1-4184-b811-caeea9823628",
   "metadata": {},
   "outputs": [],
   "source": [
    "#X contient toute les colonnes de la base de données sauf la 1ere, celle des classes\n",
    "X=champi.drop('class',axis=1)\n",
    "\n",
    "#Transformation des valeurs qualitatives en valeurs quantitatives sur X\n",
    "column_names=list()\n",
    "for names in X.columns:\n",
    "    column_names.append(names)\n",
    "X=pd.get_dummies(data=X)\n",
    "\n",
    "#y ne contient que les classes\n",
    "y=champi['class']\n",
    "\n",
    "#Transformation des valeurs qualitatives en valeurs quantitatives sur y\n",
    "y=pd.get_dummies(champi['class'], drop_first=True).to_numpy().squeeze()"
   ]
  },
  {
   "cell_type": "code",
   "execution_count": null,
   "id": "ecbc1a1e-344b-43a0-98da-1cd9a63fb040",
   "metadata": {},
   "outputs": [],
   "source": [
    "X_train, X_test, y_train, y_test = train_test_split(X, y, test_size = 0.2, random_state = 0)"
   ]
  },
  {
   "cell_type": "markdown",
   "id": "fba67623-a160-4df1-8c59-66f480cede8b",
   "metadata": {
    "tags": []
   },
   "source": [
    "## ACM & analyse des composantes"
   ]
  },
  {
   "cell_type": "code",
   "execution_count": null,
   "id": "bd1c118d-2309-46d5-8729-d068e00db777",
   "metadata": {
    "tags": []
   },
   "outputs": [],
   "source": [
    "import prince\n",
    "from sklearn.preprocessing import LabelEncoder, OrdinalEncoder\n",
    "from sklearn.feature_selection import SelectKBest, chi2\n",
    "\n",
    "#Récupération de la base de données sans les classes\n",
    "amcchampi=champi.drop('class',axis=1)\n",
    "amcchampi.columns = column_names\n",
    "\n",
    "#Application d'une ACM et affichage de la distance entre les variables\n",
    "mca = prince.MCA(n_components=15, n_iter=3, copy=True, check_input=True, engine='auto', random_state=42)\n",
    "mca = mca.fit(amcchampi)\n",
    "\n",
    "# Liste de l'inertie des différents composants\n",
    "mca.explained_inertia_\n",
    "\n",
    "ax = mca.plot_coordinates(X=amcchampi, ax=None, figsize=(50, 50), x_component=0, y_component=1, show_row_points=False, row_points_size=10,\n",
    "                          show_row_labels=False, show_column_points=True, column_points_size=30, show_column_labels=True, legend_n_cols=1)\n",
    "ax.get_figure().savefig('mca.svg')"
   ]
  },
  {
   "cell_type": "code",
   "execution_count": null,
   "id": "5a1d980f-37c8-47bd-8274-09d3edd1f185",
   "metadata": {
    "tags": []
   },
   "outputs": [],
   "source": [
    "#Récupération de la base de données pour l'analyse des features\n",
    "X1 = db=champi.drop('class',axis=1)\n",
    "y1 = champi['class']\n",
    "\n",
    "#Préparation des variables\n",
    "oe = OrdinalEncoder()\n",
    "oe.fit(X1)\n",
    "X_enc = oe.transform(X1)\n",
    "\n",
    "#Préparation des classes\n",
    "le = LabelEncoder()\n",
    "le.fit(y1)\n",
    "y_enc = le.transform(y1)\n",
    "\n",
    "#Affichage du score de chaque variable\n",
    "sf = SelectKBest(chi2, k='all')\n",
    "sf_fit1 = sf.fit(X_enc, y_enc)\n",
    "for i in range(len(sf_fit1.scores_)):\n",
    "    print(' %s: %f' % (X1.columns[i], sf_fit1.scores_[i]))\n",
    "    \n",
    "# Affichage des variables par score\n",
    "datset1 = pd.DataFrame()\n",
    "datset1['feature'] = X1.columns[ range(len(sf_fit1.scores_))]\n",
    "datset1['scores'] = sf_fit1.scores_\n",
    "datset1 = datset1.sort_values(by='scores', ascending=True)\n",
    "sns.barplot(datset1['scores'], datset1['feature'], color='green')\n",
    "sns.set_style('whitegrid')\n",
    "plt.ylabel('Categorical feature', fontsize=18)\n",
    "plt.xlabel('Score', fontsize=18)\n",
    "plt.show()"
   ]
  },
  {
   "cell_type": "markdown",
   "id": "48a3db70-1e82-4113-b004-a78be686fcc5",
   "metadata": {},
   "source": [
    "### Partie Arbre de données"
   ]
  },
  {
   "cell_type": "code",
   "execution_count": null,
   "id": "29bc5d7b-abd8-406b-9104-89518b98abb3",
   "metadata": {},
   "outputs": [],
   "source": [
    "#Partie arbre de décision\n",
    "from sklearn import tree\n",
    "from math import *\n",
    "from sklearn import model_selection\n",
    "from sklearn.model_selection import GridSearchCV"
   ]
  },
  {
   "cell_type": "code",
   "execution_count": null,
   "id": "4ffbba7d-e02d-44ed-b648-4a06ec153811",
   "metadata": {},
   "outputs": [],
   "source": [
    "#Determination des meilleurs parametres pour l'arbre\n",
    "pgrid = {\"max_depth\": [1, 2, 3, 4, 5, 6, 7, 8, 9],\n",
    "      \"min_samples_split\": [2, 3, 5, 10, 15, 20]}\n",
    "grid_search = GridSearchCV(tree.DecisionTreeClassifier(), param_grid=pgrid, cv=10)\n",
    "grid_search.fit(X_train, y_train)\n",
    "grid_search.best_params_"
   ]
  },
  {
   "cell_type": "code",
   "execution_count": null,
   "id": "4eb8852e-46f0-4345-ab7d-b9fa590ade63",
   "metadata": {},
   "outputs": [],
   "source": [
    "arbre = tree.DecisionTreeClassifier(min_samples_leaf=grid_search.best_estimator_.max_depth, min_samples_split=grid_search.best_estimator_.min_samples_split)\n",
    "arbre.fit(X_train, y_train)\n",
    "arbre.score(X_test, y_test)"
   ]
  },
  {
   "cell_type": "code",
   "execution_count": null,
   "id": "9af02ead-0a04-4198-842a-905a8ea04430",
   "metadata": {},
   "outputs": [],
   "source": [
    "#Affichage de l'arbre\n",
    "tree.plot_tree(arbre, filled=True)\n",
    "\n",
    "# On exporte le graphe dans le fichier champignon.dot\n",
    "with open(\"arbre.dot\", 'w') as f:\n",
    "    f = tree.export_graphviz(arbre, out_file=f, filled=True)\n",
    "\n",
    "#Enregistrement de l'arbre pour une meilleur visualisation\n",
    "plt.savefig('arbre.png')"
   ]
  },
  {
   "cell_type": "markdown",
   "id": "ac4aa821-5df5-4901-8f63-1be404029e75",
   "metadata": {},
   "source": [
    "## Bagging, Forêts aléatoires et Boosting"
   ]
  },
  {
   "cell_type": "code",
   "execution_count": null,
   "id": "d75fa730-440f-4c59-8fd9-8891dfd0bf77",
   "metadata": {},
   "outputs": [],
   "source": [
    "from sklearn.ensemble import BaggingClassifier\n",
    "from sklearn.ensemble import RandomForestClassifier\n",
    "from sklearn.ensemble import AdaBoostClassifier\n",
    "from sklearn.ensemble import ExtraTreesClassifier"
   ]
  },
  {
   "cell_type": "code",
   "execution_count": null,
   "id": "b6b29e9b-3b4f-482e-ac08-0b4ff8d4f838",
   "metadata": {},
   "outputs": [],
   "source": [
    "#Determination des meilleurs parametres pour le Bagging\n",
    "pgrid = {\"max_samples\": [0.1, 0.2, 0.4, 0.6, 0.8],\n",
    "        \"max_features\": [0.2, 0.4, 0.6, 0.8, 1]}\n",
    "grid_search = GridSearchCV(BaggingClassifier(tree.DecisionTreeClassifier()), param_grid=pgrid, cv=5)\n",
    "grid_search.fit(X_train, y_train)\n",
    "grid_search.best_params_"
   ]
  },
  {
   "cell_type": "code",
   "execution_count": null,
   "id": "dea68af3-8132-4490-881c-76c37e25584a",
   "metadata": {},
   "outputs": [],
   "source": [
    "#Test avec le Bagging\n",
    "bagging = BaggingClassifier(tree.DecisionTreeClassifier(),\n",
    "                            max_samples=grid_search.best_estimator_.max_samples,\n",
    "                            max_features=grid_search.best_estimator_.max_features,\n",
    "                            n_estimators=200)\n",
    "bagging.fit(X_train, y_train)"
   ]
  },
  {
   "cell_type": "code",
   "execution_count": null,
   "id": "87bdbef5-9303-44fb-9d08-78c0794af895",
   "metadata": {},
   "outputs": [],
   "source": [
    "#Test avec les Forêts aléatoires\n",
    "random = RandomForestClassifier(n_estimators=200)\n",
    "random.fit(X_train, y_train)"
   ]
  },
  {
   "cell_type": "code",
   "execution_count": null,
   "id": "9c796681-0266-4ecb-a97c-d6339117c89c",
   "metadata": {},
   "outputs": [],
   "source": [
    "extra = ExtraTreesClassifier(n_estimators=200)\n",
    "extra.fit(X_train, y_train)"
   ]
  },
  {
   "cell_type": "code",
   "execution_count": null,
   "id": "a47a9eb2-dad7-4783-beb4-d0eb5254fdd7",
   "metadata": {},
   "outputs": [],
   "source": [
    "#Test avec le Boosting\n",
    "boost = AdaBoostClassifier(base_estimator=tree.DecisionTreeClassifier(max_depth=5),\n",
    "                           n_estimators=200, learning_rate=2)\n",
    "boost.fit(X_train, y_train)"
   ]
  },
  {
   "cell_type": "code",
   "execution_count": null,
   "id": "598cba5e-4913-4fc6-af61-b15cc5987d04",
   "metadata": {},
   "outputs": [],
   "source": [
    "print(\"Bagging (200 arbres) : \" + str(bagging.score(X_test,y_test)))\n",
    "print(\"Forêt aléatoire (200 arbres) : \" + str(random.score(X_test,y_test)))\n",
    "print(\"Extra Trees (200 arbres) : \" + str(extra.score(X_test,y_test)))\n",
    "print(\"AdaBoost (200 arbres) : \" + str(boost.score(X_test,y_test)))"
   ]
  },
  {
   "cell_type": "markdown",
   "id": "8870d26a-95b8-4523-90c2-157b7ec57e91",
   "metadata": {},
   "source": [
    "## SVM"
   ]
  },
  {
   "cell_type": "code",
   "execution_count": null,
   "id": "dc91c9d3-60a7-4362-af12-6b1fa9871305",
   "metadata": {},
   "outputs": [],
   "source": [
    "from sklearn import svm, datasets\n",
    "\n",
    "#Determination des meilleurs parametres pour le SVM linéaire\n",
    "pgrid = {\"C\": [1, 8, 10, 15]}\n",
    "grid_search = GridSearchCV(svm.LinearSVC(), param_grid=pgrid, cv=5)\n",
    "grid_search.fit(X_train, y_train)\n",
    "print(\"Meilleur C: \" + str(grid_search.best_estimator_.C))"
   ]
  },
  {
   "cell_type": "code",
   "execution_count": null,
   "id": "1666a5bb-9490-485f-99da-09ab494fa3ee",
   "metadata": {},
   "outputs": [],
   "source": [
    "lin_svc = svm.LinearSVC(C=grid_search.best_estimator_.C)\n",
    "lin_svc.fit(X_train, y_train)\n",
    "lin_svc.score(X_test, y_test)"
   ]
  },
  {
   "cell_type": "code",
   "execution_count": null,
   "id": "ca1580e2-54ec-4919-b3bf-f0ebec87ec86",
   "metadata": {},
   "outputs": [],
   "source": [
    "#Determination des meilleurs parametres pour le SVM\n",
    "pgrid = {\"C\": [1, 8, 10, 15],\n",
    "        \"gamma\": [0.1, 0.2, 0.3, 0.4, 0.5, 0.6, 0.7, 0.8, 0.9, 1]}\n",
    "grid_search = GridSearchCV(svm.SVC(), param_grid=pgrid, cv=5)\n",
    "grid_search.fit(X_train, y_train)\n",
    "print(\"Meilleur C: \" + str(grid_search.best_estimator_.C))\n",
    "print(\"Meilleur gamma: \" + str(grid_search.best_estimator_.gamma))"
   ]
  },
  {
   "cell_type": "code",
   "execution_count": null,
   "id": "a4c73a08-4746-47d7-9ecc-db36771b525c",
   "metadata": {},
   "outputs": [],
   "source": [
    "clf = svm.SVC(C=grid_search.best_estimator_.C, kernel='rbf', gamma=grid_search.best_estimator_.gamma)\n",
    "clf.fit(X_train, y_train)\n",
    "clf.score(X_test, y_test)"
   ]
  },
  {
   "cell_type": "markdown",
   "id": "c754bb77-780f-42a1-a8fb-6c5f21e7bbbd",
   "metadata": {
    "tags": []
   },
   "source": [
    "## Partie réseau de Neurone"
   ]
  },
  {
   "cell_type": "code",
   "execution_count": null,
   "id": "5606153b-8bb6-49af-82cf-a1cd28b5c4de",
   "metadata": {},
   "outputs": [],
   "source": [
    "#Partie Réseau de neurones profond\n",
    "import tensorflow\n",
    "from tensorflow import keras\n",
    "from keras import layers, Sequential\n",
    "from keras.layers import Dense"
   ]
  },
  {
   "cell_type": "code",
   "execution_count": null,
   "id": "cf5922f9-9a89-4400-9805-5829c553f025",
   "metadata": {},
   "outputs": [],
   "source": [
    "#Passage de y a deux dimensions\n",
    "y=pd.get_dummies(data=y)\n",
    "X_train, X_test, y_train, y_test = train_test_split(X, y, test_size = 0.2, random_state = 0)\n",
    "\n",
    "# Initialisation du reseau de neurones profond\n",
    "analyse_champi = Sequential()\n",
    "\n",
    "#Ajout des couches\n",
    "analyse_champi.add(Dense(3, activation = 'relu',  input_dim=116, name='couche_1'))\n",
    "analyse_champi.add(Dense(2 ,activation='softmax', name='couche_final'))\n",
    "\n",
    "#Compilation\n",
    "analyse_champi.compile(loss='binary_crossentropy',optimizer=keras.optimizers.SGD(0.5),metrics=['accuracy'])\n",
    "\n",
    "#Fit (possibilité de modification du verbose pour afficher ou non les différentes epochs\n",
    "historique = analyse_champi.fit(X_train, y_train, batch_size = 80, epochs = 25, validation_data=(X_test,y_test), verbose=1)\n",
    "print('-------------------------------')\n",
    "\n",
    "#Affichage du score et d'un graphique montrant l'evolution des différentes valeurs\n",
    "pd.DataFrame(historique.history).plot()\n",
    "scores = analyse_champi.evaluate(X_test, y_test, verbose=0)\n",
    "print(\"%s: %.2f%%\" % (analyse_champi.metrics_names[0], scores[0]*100))\n",
    "print(\"%s: %.2f%%\" % (analyse_champi.metrics_names[1], scores[1]*100))"
   ]
  },
  {
   "cell_type": "code",
   "execution_count": null,
   "id": "3c2d39a8-e773-45c2-8ca7-18f88c71872a",
   "metadata": {},
   "outputs": [],
   "source": []
  }
 ],
 "metadata": {
  "kernelspec": {
   "display_name": "Python 3",
   "language": "python",
   "name": "python3"
  },
  "language_info": {
   "codemirror_mode": {
    "name": "ipython",
    "version": 3
   },
   "file_extension": ".py",
   "mimetype": "text/x-python",
   "name": "python",
   "nbconvert_exporter": "python",
   "pygments_lexer": "ipython3",
   "version": "3.7.8"
  }
 },
 "nbformat": 4,
 "nbformat_minor": 5
}
